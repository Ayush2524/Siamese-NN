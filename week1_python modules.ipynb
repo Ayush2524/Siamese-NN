{
 "cells": [
  {
   "cell_type": "markdown",
   "metadata": {},
   "source": [
    "### Instrutions \n",
    "\n",
    "1. Replace **None** with your code. You can add multiple lines of code if needed.\n",
    "\n",
    "2. You can create additional variables if you need.\n",
    "\n",
    "3. ***DO NOT CHANGE THE NAME OF THE VARIABLES THAT ARE USED BELOW. EX- array_a, reshaped_array***\n",
    "\n",
    "4. For submission download this ipynb file and upload in your repository"
   ]
  },
  {
   "cell_type": "code",
   "execution_count": 32,
   "metadata": {},
   "outputs": [],
   "source": [
    "# Import required libraries (numpy, pandas, matplotlib)\n",
    "# Write code here\n",
    "import numpy as np\n",
    "import pandas as pd\n",
    "import matplotlib.pyplot as plt"
   ]
  },
  {
   "cell_type": "code",
   "execution_count": 33,
   "metadata": {},
   "outputs": [],
   "source": [
    "# Task 1: Create a NumPy Array\n",
    "# Create a NumPy array `array_a` with 20 random integers between 1 and 100.\n",
    "# Expected output format: array_a should be a 1D array with 20 elements.\n",
    "array_a = np.random.randint(1,101,20)"
   ]
  },
  {
   "cell_type": "code",
   "execution_count": 34,
   "metadata": {},
   "outputs": [],
   "source": [
    "# Task 2: Array Reshaping\n",
    "# Reshape `array_a` into a 2D array `reshaped_array` with shape (5, 4).\n",
    "# Expected output format: reshaped_array should be a 5x4 matrix.\n",
    "reshaped_array = array_a.reshape(5,4)"
   ]
  },
  {
   "cell_type": "code",
   "execution_count": 35,
   "metadata": {},
   "outputs": [],
   "source": [
    "# Task 3: Array Indexing\n",
    "# Extract the first five elements of the first row of `reshaped_array` into `first_five_elements`.\n",
    "# Expected output format: first_five_elements should be a 1D array with 5 elements.\n",
    "first_five_elements = reshaped_array[0,:]"
   ]
  },
  {
   "cell_type": "code",
   "execution_count": 36,
   "metadata": {},
   "outputs": [],
   "source": [
    "# Task 4: Element-wise Operations\n",
    "# Create another array `array_b` with the same shape as `reshaped_array`, and perform element-wise addition with `reshaped_array`.\n",
    "# Expected output format: added_arrays should be a 5x4 matrix, element-wise sum of reshaped_array and array_b.\n",
    "array_b = np.random.randint(1,101,20)\n",
    "array_b=array_b.reshape(5,4)\n",
    "added_arrays = array_b + reshaped_array\n"
   ]
  },
  {
   "cell_type": "code",
   "execution_count": 37,
   "metadata": {},
   "outputs": [
    {
     "name": "stdout",
     "output_type": "stream",
     "text": [
      "[[ 8884  2828  7842]\n",
      " [12107 10369 14796]\n",
      " [12504 10666 14732]]\n"
     ]
    }
   ],
   "source": [
    "\n",
    "# Task 5: Matrix Multiplication\n",
    "# Create two 3x3 matrices `matrix_a` and `matrix_b`. Perform matrix multiplication of `matrix_a` and `matrix_b` to get `matrix_product`.\n",
    "# Expected output format: matrix_product should be a 3x3 matrix.\n",
    "matrix_a = np.random.randint(1, 101, size=(3, 3))\n",
    "matrix_b = np.random.randint(1, 101, size=(3, 3))\n",
    "matrix_product_dot= np.dot(matrix_a,matrix_b)\n",
    "print(matrix_product_dot)"
   ]
  },
  {
   "cell_type": "code",
   "execution_count": 38,
   "metadata": {},
   "outputs": [],
   "source": [
    "\n",
    "# Task 6: Broadcasting\n",
    "# Create `array_c` with 4 random integers. Add `array_c` to `reshaped_array` using broadcasting.\n",
    "# Expected output format: broadcasted_array should be a 5x4 matrix.\n",
    "array_c = np.random.randint(1,10,4)\n",
    "broadcasted_array = reshaped_array + array_c\n"
   ]
  },
  {
   "cell_type": "code",
   "execution_count": 39,
   "metadata": {},
   "outputs": [
    {
     "name": "stdout",
     "output_type": "stream",
     "text": [
      "[[71 45]\n",
      " [20 83]]\n"
     ]
    }
   ],
   "source": [
    "\n",
    "# Task 7: Array Slicing and Stride\n",
    "# Slice `reshaped_array` using a stride to create `sliced_array`, taking every third row and every second column.\n",
    "# Expected output format: sliced_array should have shape (2, 2).\n",
    "sliced_array = reshaped_array[::3, ::2]\n",
    "print(sliced_array)\n"
   ]
  },
  {
   "cell_type": "code",
   "execution_count": 40,
   "metadata": {},
   "outputs": [],
   "source": [
    "\n",
    "# Task 8: Statistical Computation\n",
    "# Compute the sum, mean, and standard deviation of `reshaped_array` and store them in a dictionary `stats`.\n",
    "# Expected output format: stats should be a dictionary with keys 'sum', 'mean', and 'std'.\n",
    "stats = {'sum' : np.sum(reshaped_array),\n",
    "         'mean' : np.mean(reshaped_array),\n",
    "         'std' : np.std(reshaped_array)\n",
    "}"
   ]
  },
  {
   "cell_type": "code",
   "execution_count": 41,
   "metadata": {},
   "outputs": [],
   "source": [
    "\n",
    "# Task 9: Find the Maximum and Minimum\n",
    "# Find the indices of the maximum and minimum values in `reshaped_array` using np.argmax and np.argmin.\n",
    "# Expected output format: max_index and min_index should be integers.\n",
    "max_index = np.argmax(reshaped_array)\n",
    "min_index = np.argmin(reshaped_array)\n"
   ]
  },
  {
   "cell_type": "code",
   "execution_count": 42,
   "metadata": {},
   "outputs": [
    {
     "name": "stdout",
     "output_type": "stream",
     "text": [
      "[1 1 1 1 1 0 1 1 1 0]\n"
     ]
    }
   ],
   "source": [
    "\n",
    "# Task 10: Advanced Array Manipulation\n",
    "# Create `array_d` with 10 random floating-point numbers and modify it to contain only 0 and 1 based on whether the value is greater than 0.5.\n",
    "# Expected output format: modified_array_d should be a 1D array of integers (0 or 1).\n",
    "array_d = np.random.random(10)\n",
    "modified_array_d = array_d = (array_d > 0.5).astype(int)\n",
    "print(modified_array_d)\n"
   ]
  },
  {
   "cell_type": "markdown",
   "metadata": {},
   "source": [
    "##### Pandas Tasks"
   ]
  },
  {
   "cell_type": "code",
   "execution_count": 43,
   "metadata": {},
   "outputs": [
    {
     "data": {
      "text/html": [
       "<div>\n",
       "<style scoped>\n",
       "    .dataframe tbody tr th:only-of-type {\n",
       "        vertical-align: middle;\n",
       "    }\n",
       "\n",
       "    .dataframe tbody tr th {\n",
       "        vertical-align: top;\n",
       "    }\n",
       "\n",
       "    .dataframe thead th {\n",
       "        text-align: right;\n",
       "    }\n",
       "</style>\n",
       "<table border=\"1\" class=\"dataframe\">\n",
       "  <thead>\n",
       "    <tr style=\"text-align: right;\">\n",
       "      <th></th>\n",
       "      <th>A</th>\n",
       "      <th>B</th>\n",
       "      <th>C</th>\n",
       "      <th>D</th>\n",
       "    </tr>\n",
       "  </thead>\n",
       "  <tbody>\n",
       "    <tr>\n",
       "      <th>0</th>\n",
       "      <td>71</td>\n",
       "      <td>95</td>\n",
       "      <td>45</td>\n",
       "      <td>8</td>\n",
       "    </tr>\n",
       "    <tr>\n",
       "      <th>1</th>\n",
       "      <td>42</td>\n",
       "      <td>28</td>\n",
       "      <td>79</td>\n",
       "      <td>60</td>\n",
       "    </tr>\n",
       "    <tr>\n",
       "      <th>2</th>\n",
       "      <td>60</td>\n",
       "      <td>24</td>\n",
       "      <td>65</td>\n",
       "      <td>72</td>\n",
       "    </tr>\n",
       "    <tr>\n",
       "      <th>3</th>\n",
       "      <td>20</td>\n",
       "      <td>17</td>\n",
       "      <td>83</td>\n",
       "      <td>18</td>\n",
       "    </tr>\n",
       "    <tr>\n",
       "      <th>4</th>\n",
       "      <td>47</td>\n",
       "      <td>96</td>\n",
       "      <td>27</td>\n",
       "      <td>79</td>\n",
       "    </tr>\n",
       "  </tbody>\n",
       "</table>\n",
       "</div>"
      ],
      "text/plain": [
       "    A   B   C   D\n",
       "0  71  95  45   8\n",
       "1  42  28  79  60\n",
       "2  60  24  65  72\n",
       "3  20  17  83  18\n",
       "4  47  96  27  79"
      ]
     },
     "execution_count": 43,
     "metadata": {},
     "output_type": "execute_result"
    }
   ],
   "source": [
    "# Task 1: Create a DataFrame\n",
    "# Create a DataFrame `df_a` using `reshaped_array` with column names 'A', 'B', 'C', 'D'.\n",
    "# Expected output format: df_a should be a DataFrame with shape (5, 4).\n",
    "df_a = pd.DataFrame(reshaped_array, columns=['A', 'B', 'C', 'D'])\n",
    "df_a\n"
   ]
  },
  {
   "cell_type": "code",
   "execution_count": 44,
   "metadata": {},
   "outputs": [
    {
     "data": {
      "text/html": [
       "<div>\n",
       "<style scoped>\n",
       "    .dataframe tbody tr th:only-of-type {\n",
       "        vertical-align: middle;\n",
       "    }\n",
       "\n",
       "    .dataframe tbody tr th {\n",
       "        vertical-align: top;\n",
       "    }\n",
       "\n",
       "    .dataframe thead th {\n",
       "        text-align: right;\n",
       "    }\n",
       "</style>\n",
       "<table border=\"1\" class=\"dataframe\">\n",
       "  <thead>\n",
       "    <tr style=\"text-align: right;\">\n",
       "      <th></th>\n",
       "      <th>A</th>\n",
       "      <th>B</th>\n",
       "      <th>C</th>\n",
       "      <th>D</th>\n",
       "    </tr>\n",
       "  </thead>\n",
       "  <tbody>\n",
       "    <tr>\n",
       "      <th>0</th>\n",
       "      <td>71</td>\n",
       "      <td>95</td>\n",
       "      <td>45</td>\n",
       "      <td>8</td>\n",
       "    </tr>\n",
       "    <tr>\n",
       "      <th>1</th>\n",
       "      <td>42</td>\n",
       "      <td>28</td>\n",
       "      <td>79</td>\n",
       "      <td>60</td>\n",
       "    </tr>\n",
       "    <tr>\n",
       "      <th>2</th>\n",
       "      <td>60</td>\n",
       "      <td>24</td>\n",
       "      <td>65</td>\n",
       "      <td>72</td>\n",
       "    </tr>\n",
       "    <tr>\n",
       "      <th>3</th>\n",
       "      <td>20</td>\n",
       "      <td>17</td>\n",
       "      <td>83</td>\n",
       "      <td>18</td>\n",
       "    </tr>\n",
       "    <tr>\n",
       "      <th>4</th>\n",
       "      <td>47</td>\n",
       "      <td>96</td>\n",
       "      <td>27</td>\n",
       "      <td>79</td>\n",
       "    </tr>\n",
       "    <tr>\n",
       "      <th>new_row</th>\n",
       "      <td>36</td>\n",
       "      <td>44</td>\n",
       "      <td>16</td>\n",
       "      <td>26</td>\n",
       "    </tr>\n",
       "  </tbody>\n",
       "</table>\n",
       "</div>"
      ],
      "text/plain": [
       "          A   B   C   D\n",
       "0        71  95  45   8\n",
       "1        42  28  79  60\n",
       "2        60  24  65  72\n",
       "3        20  17  83  18\n",
       "4        47  96  27  79\n",
       "new_row  36  44  16  26"
      ]
     },
     "execution_count": 44,
     "metadata": {},
     "output_type": "execute_result"
    }
   ],
   "source": [
    "\n",
    "# Task 2: Row Operations\n",
    "# Add a new row `new_row` to `df_a`, containing 4 random integers between 1 and 50.\n",
    "# Expected output format: df_a should have 6 rows after adding `new_row`.\n",
    "new_row = np.random.randint(1,51,4)\n",
    "df_a.loc[\"new_row\"] = new_row\n",
    "df_a\n"
   ]
  },
  {
   "cell_type": "code",
   "execution_count": 45,
   "metadata": {},
   "outputs": [
    {
     "data": {
      "text/html": [
       "<div>\n",
       "<style scoped>\n",
       "    .dataframe tbody tr th:only-of-type {\n",
       "        vertical-align: middle;\n",
       "    }\n",
       "\n",
       "    .dataframe tbody tr th {\n",
       "        vertical-align: top;\n",
       "    }\n",
       "\n",
       "    .dataframe thead th {\n",
       "        text-align: right;\n",
       "    }\n",
       "</style>\n",
       "<table border=\"1\" class=\"dataframe\">\n",
       "  <thead>\n",
       "    <tr style=\"text-align: right;\">\n",
       "      <th></th>\n",
       "      <th>A</th>\n",
       "      <th>B</th>\n",
       "      <th>C</th>\n",
       "      <th>D</th>\n",
       "      <th>Sum</th>\n",
       "    </tr>\n",
       "  </thead>\n",
       "  <tbody>\n",
       "    <tr>\n",
       "      <th>0</th>\n",
       "      <td>71</td>\n",
       "      <td>95</td>\n",
       "      <td>45</td>\n",
       "      <td>8</td>\n",
       "      <td>219</td>\n",
       "    </tr>\n",
       "    <tr>\n",
       "      <th>1</th>\n",
       "      <td>42</td>\n",
       "      <td>28</td>\n",
       "      <td>79</td>\n",
       "      <td>60</td>\n",
       "      <td>209</td>\n",
       "    </tr>\n",
       "    <tr>\n",
       "      <th>2</th>\n",
       "      <td>60</td>\n",
       "      <td>24</td>\n",
       "      <td>65</td>\n",
       "      <td>72</td>\n",
       "      <td>221</td>\n",
       "    </tr>\n",
       "    <tr>\n",
       "      <th>3</th>\n",
       "      <td>20</td>\n",
       "      <td>17</td>\n",
       "      <td>83</td>\n",
       "      <td>18</td>\n",
       "      <td>138</td>\n",
       "    </tr>\n",
       "    <tr>\n",
       "      <th>4</th>\n",
       "      <td>47</td>\n",
       "      <td>96</td>\n",
       "      <td>27</td>\n",
       "      <td>79</td>\n",
       "      <td>249</td>\n",
       "    </tr>\n",
       "    <tr>\n",
       "      <th>new_row</th>\n",
       "      <td>36</td>\n",
       "      <td>44</td>\n",
       "      <td>16</td>\n",
       "      <td>26</td>\n",
       "      <td>122</td>\n",
       "    </tr>\n",
       "  </tbody>\n",
       "</table>\n",
       "</div>"
      ],
      "text/plain": [
       "          A   B   C   D  Sum\n",
       "0        71  95  45   8  219\n",
       "1        42  28  79  60  209\n",
       "2        60  24  65  72  221\n",
       "3        20  17  83  18  138\n",
       "4        47  96  27  79  249\n",
       "new_row  36  44  16  26  122"
      ]
     },
     "execution_count": 45,
     "metadata": {},
     "output_type": "execute_result"
    }
   ],
   "source": [
    "\n",
    "# Task 3: Column Manipulation\n",
    "# Add a new column 'Sum' to `df_a` that stores the row-wise sum of the columns.\n",
    "# Expected output format: df_a should have a 'Sum' column.\n",
    "df_a['Sum'] = df_a.sum(axis=1)\n",
    "df_a\n"
   ]
  },
  {
   "cell_type": "code",
   "execution_count": 46,
   "metadata": {},
   "outputs": [
    {
     "name": "stdout",
     "output_type": "stream",
     "text": [
      "<class 'pandas.core.series.Series'>\n"
     ]
    }
   ],
   "source": [
    "\n",
    "# Task 4: Accessing Data\n",
    "# Extract the column 'C' from `df_a` and store it in a variable `col_c`.\n",
    "# Expected output format: col_c should be a pandas Series.\n",
    "col_c = df_a['C']\n",
    "print(type(col_c))\n"
   ]
  },
  {
   "cell_type": "code",
   "execution_count": 47,
   "metadata": {},
   "outputs": [
    {
     "data": {
      "text/html": [
       "<div>\n",
       "<style scoped>\n",
       "    .dataframe tbody tr th:only-of-type {\n",
       "        vertical-align: middle;\n",
       "    }\n",
       "\n",
       "    .dataframe tbody tr th {\n",
       "        vertical-align: top;\n",
       "    }\n",
       "\n",
       "    .dataframe thead th {\n",
       "        text-align: right;\n",
       "    }\n",
       "</style>\n",
       "<table border=\"1\" class=\"dataframe\">\n",
       "  <thead>\n",
       "    <tr style=\"text-align: right;\">\n",
       "      <th></th>\n",
       "      <th>A</th>\n",
       "      <th>B</th>\n",
       "      <th>C</th>\n",
       "      <th>D</th>\n",
       "      <th>Sum</th>\n",
       "    </tr>\n",
       "  </thead>\n",
       "  <tbody>\n",
       "    <tr>\n",
       "      <th>0</th>\n",
       "      <td>71</td>\n",
       "      <td>95</td>\n",
       "      <td>45</td>\n",
       "      <td>8</td>\n",
       "      <td>219</td>\n",
       "    </tr>\n",
       "    <tr>\n",
       "      <th>1</th>\n",
       "      <td>42</td>\n",
       "      <td>28</td>\n",
       "      <td>79</td>\n",
       "      <td>60</td>\n",
       "      <td>209</td>\n",
       "    </tr>\n",
       "    <tr>\n",
       "      <th>2</th>\n",
       "      <td>60</td>\n",
       "      <td>24</td>\n",
       "      <td>65</td>\n",
       "      <td>72</td>\n",
       "      <td>221</td>\n",
       "    </tr>\n",
       "    <tr>\n",
       "      <th>4</th>\n",
       "      <td>47</td>\n",
       "      <td>96</td>\n",
       "      <td>27</td>\n",
       "      <td>79</td>\n",
       "      <td>249</td>\n",
       "    </tr>\n",
       "    <tr>\n",
       "      <th>new_row</th>\n",
       "      <td>36</td>\n",
       "      <td>44</td>\n",
       "      <td>16</td>\n",
       "      <td>26</td>\n",
       "      <td>122</td>\n",
       "    </tr>\n",
       "  </tbody>\n",
       "</table>\n",
       "</div>"
      ],
      "text/plain": [
       "          A   B   C   D  Sum\n",
       "0        71  95  45   8  219\n",
       "1        42  28  79  60  209\n",
       "2        60  24  65  72  221\n",
       "4        47  96  27  79  249\n",
       "new_row  36  44  16  26  122"
      ]
     },
     "execution_count": 47,
     "metadata": {},
     "output_type": "execute_result"
    }
   ],
   "source": [
    "\n",
    "# Task 5: Filtering Data\n",
    "# Filter `df_a` to create a new DataFrame `filtered_df` where column 'A' has values greater than 30.\n",
    "# Expected output format: filtered_df should be a subset of df_a.\n",
    "filtered_df = df_a[df_a['A'] > 30]\n",
    "filtered_df\n"
   ]
  },
  {
   "cell_type": "code",
   "execution_count": 48,
   "metadata": {},
   "outputs": [],
   "source": [
    "\n",
    "# Task 6: Statistical Operations\n",
    "# Compute the mean and standard deviation of all columns in `df_a` and store them in `mean_values` and `std_values`.\n",
    "# Expected output format: mean_values and std_values should be pandas Series with column names as the index.\n",
    "mean_values = df_a.mean()\n",
    "std_values = df_a.std()\n"
   ]
  },
  {
   "cell_type": "code",
   "execution_count": 49,
   "metadata": {},
   "outputs": [
    {
     "data": {
      "text/html": [
       "<div>\n",
       "<style scoped>\n",
       "    .dataframe tbody tr th:only-of-type {\n",
       "        vertical-align: middle;\n",
       "    }\n",
       "\n",
       "    .dataframe tbody tr th {\n",
       "        vertical-align: top;\n",
       "    }\n",
       "\n",
       "    .dataframe thead th {\n",
       "        text-align: right;\n",
       "    }\n",
       "</style>\n",
       "<table border=\"1\" class=\"dataframe\">\n",
       "  <thead>\n",
       "    <tr style=\"text-align: right;\">\n",
       "      <th></th>\n",
       "      <th>A</th>\n",
       "      <th>B</th>\n",
       "      <th>C</th>\n",
       "      <th>D</th>\n",
       "      <th>Sum</th>\n",
       "    </tr>\n",
       "  </thead>\n",
       "  <tbody>\n",
       "    <tr>\n",
       "      <th>0</th>\n",
       "      <td>71</td>\n",
       "      <td>95.0</td>\n",
       "      <td>45</td>\n",
       "      <td>8.0</td>\n",
       "      <td>219</td>\n",
       "    </tr>\n",
       "    <tr>\n",
       "      <th>1</th>\n",
       "      <td>42</td>\n",
       "      <td>28.0</td>\n",
       "      <td>79</td>\n",
       "      <td>60.0</td>\n",
       "      <td>209</td>\n",
       "    </tr>\n",
       "    <tr>\n",
       "      <th>2</th>\n",
       "      <td>60</td>\n",
       "      <td>56.0</td>\n",
       "      <td>65</td>\n",
       "      <td>72.0</td>\n",
       "      <td>221</td>\n",
       "    </tr>\n",
       "    <tr>\n",
       "      <th>3</th>\n",
       "      <td>20</td>\n",
       "      <td>17.0</td>\n",
       "      <td>83</td>\n",
       "      <td>18.0</td>\n",
       "      <td>138</td>\n",
       "    </tr>\n",
       "    <tr>\n",
       "      <th>4</th>\n",
       "      <td>47</td>\n",
       "      <td>96.0</td>\n",
       "      <td>27</td>\n",
       "      <td>36.8</td>\n",
       "      <td>249</td>\n",
       "    </tr>\n",
       "    <tr>\n",
       "      <th>new_row</th>\n",
       "      <td>36</td>\n",
       "      <td>44.0</td>\n",
       "      <td>16</td>\n",
       "      <td>26.0</td>\n",
       "      <td>122</td>\n",
       "    </tr>\n",
       "  </tbody>\n",
       "</table>\n",
       "</div>"
      ],
      "text/plain": [
       "          A     B   C     D  Sum\n",
       "0        71  95.0  45   8.0  219\n",
       "1        42  28.0  79  60.0  209\n",
       "2        60  56.0  65  72.0  221\n",
       "3        20  17.0  83  18.0  138\n",
       "4        47  96.0  27  36.8  249\n",
       "new_row  36  44.0  16  26.0  122"
      ]
     },
     "execution_count": 49,
     "metadata": {},
     "output_type": "execute_result"
    }
   ],
   "source": [
    "\n",
    "# Task 7: Handling Missing Data\n",
    "# Replace missing values (NaN) in `df_a` with the mean value of the respective columns.\n",
    "# Expected output format: df_a should have no missing values after filling NaN.\n",
    "df_a.iloc[2, 1] = np.nan\n",
    "df_a.iloc[4, 3] = np.nan\n",
    "df_a.fillna(df_a.mean(), inplace=True)\n",
    "df_a\n"
   ]
  },
  {
   "cell_type": "code",
   "execution_count": 50,
   "metadata": {},
   "outputs": [
    {
     "data": {
      "text/html": [
       "<div>\n",
       "<style scoped>\n",
       "    .dataframe tbody tr th:only-of-type {\n",
       "        vertical-align: middle;\n",
       "    }\n",
       "\n",
       "    .dataframe tbody tr th {\n",
       "        vertical-align: top;\n",
       "    }\n",
       "\n",
       "    .dataframe thead th {\n",
       "        text-align: right;\n",
       "    }\n",
       "</style>\n",
       "<table border=\"1\" class=\"dataframe\">\n",
       "  <thead>\n",
       "    <tr style=\"text-align: right;\">\n",
       "      <th></th>\n",
       "      <th>A</th>\n",
       "      <th>B</th>\n",
       "      <th>C</th>\n",
       "      <th>D</th>\n",
       "      <th>Sum</th>\n",
       "    </tr>\n",
       "  </thead>\n",
       "  <tbody>\n",
       "    <tr>\n",
       "      <th>0</th>\n",
       "      <td>71</td>\n",
       "      <td>95.0</td>\n",
       "      <td>45</td>\n",
       "      <td>8.0</td>\n",
       "      <td>219</td>\n",
       "    </tr>\n",
       "    <tr>\n",
       "      <th>2</th>\n",
       "      <td>60</td>\n",
       "      <td>56.0</td>\n",
       "      <td>65</td>\n",
       "      <td>72.0</td>\n",
       "      <td>221</td>\n",
       "    </tr>\n",
       "    <tr>\n",
       "      <th>4</th>\n",
       "      <td>47</td>\n",
       "      <td>96.0</td>\n",
       "      <td>27</td>\n",
       "      <td>36.8</td>\n",
       "      <td>249</td>\n",
       "    </tr>\n",
       "    <tr>\n",
       "      <th>1</th>\n",
       "      <td>42</td>\n",
       "      <td>28.0</td>\n",
       "      <td>79</td>\n",
       "      <td>60.0</td>\n",
       "      <td>209</td>\n",
       "    </tr>\n",
       "    <tr>\n",
       "      <th>new_row</th>\n",
       "      <td>36</td>\n",
       "      <td>44.0</td>\n",
       "      <td>16</td>\n",
       "      <td>26.0</td>\n",
       "      <td>122</td>\n",
       "    </tr>\n",
       "    <tr>\n",
       "      <th>3</th>\n",
       "      <td>20</td>\n",
       "      <td>17.0</td>\n",
       "      <td>83</td>\n",
       "      <td>18.0</td>\n",
       "      <td>138</td>\n",
       "    </tr>\n",
       "  </tbody>\n",
       "</table>\n",
       "</div>"
      ],
      "text/plain": [
       "          A     B   C     D  Sum\n",
       "0        71  95.0  45   8.0  219\n",
       "2        60  56.0  65  72.0  221\n",
       "4        47  96.0  27  36.8  249\n",
       "1        42  28.0  79  60.0  209\n",
       "new_row  36  44.0  16  26.0  122\n",
       "3        20  17.0  83  18.0  138"
      ]
     },
     "execution_count": 50,
     "metadata": {},
     "output_type": "execute_result"
    }
   ],
   "source": [
    "\n",
    "# Task 8: Sorting Data\n",
    "# Sort `df_a` based on column 'A' in descending order and store the result in `df_a_sorted`.\n",
    "# Expected output format: df_a_sorted should be a sorted DataFrame.\n",
    "df_a_sorted = df_a.sort_values(by='A', ascending=False)\n",
    "df_a_sorted"
   ]
  },
  {
   "cell_type": "code",
   "execution_count": 51,
   "metadata": {},
   "outputs": [
    {
     "data": {
      "text/html": [
       "<div>\n",
       "<style scoped>\n",
       "    .dataframe tbody tr th:only-of-type {\n",
       "        vertical-align: middle;\n",
       "    }\n",
       "\n",
       "    .dataframe tbody tr th {\n",
       "        vertical-align: top;\n",
       "    }\n",
       "\n",
       "    .dataframe thead th {\n",
       "        text-align: right;\n",
       "    }\n",
       "</style>\n",
       "<table border=\"1\" class=\"dataframe\">\n",
       "  <thead>\n",
       "    <tr style=\"text-align: right;\">\n",
       "      <th></th>\n",
       "      <th>B</th>\n",
       "      <th>C</th>\n",
       "      <th>D</th>\n",
       "      <th>Sum</th>\n",
       "    </tr>\n",
       "    <tr>\n",
       "      <th>A</th>\n",
       "      <th></th>\n",
       "      <th></th>\n",
       "      <th></th>\n",
       "      <th></th>\n",
       "    </tr>\n",
       "  </thead>\n",
       "  <tbody>\n",
       "    <tr>\n",
       "      <th>20</th>\n",
       "      <td>17.0</td>\n",
       "      <td>83</td>\n",
       "      <td>18.0</td>\n",
       "      <td>138</td>\n",
       "    </tr>\n",
       "    <tr>\n",
       "      <th>36</th>\n",
       "      <td>44.0</td>\n",
       "      <td>16</td>\n",
       "      <td>26.0</td>\n",
       "      <td>122</td>\n",
       "    </tr>\n",
       "    <tr>\n",
       "      <th>42</th>\n",
       "      <td>28.0</td>\n",
       "      <td>79</td>\n",
       "      <td>60.0</td>\n",
       "      <td>209</td>\n",
       "    </tr>\n",
       "    <tr>\n",
       "      <th>47</th>\n",
       "      <td>96.0</td>\n",
       "      <td>27</td>\n",
       "      <td>36.8</td>\n",
       "      <td>249</td>\n",
       "    </tr>\n",
       "    <tr>\n",
       "      <th>60</th>\n",
       "      <td>56.0</td>\n",
       "      <td>65</td>\n",
       "      <td>72.0</td>\n",
       "      <td>221</td>\n",
       "    </tr>\n",
       "    <tr>\n",
       "      <th>71</th>\n",
       "      <td>95.0</td>\n",
       "      <td>45</td>\n",
       "      <td>8.0</td>\n",
       "      <td>219</td>\n",
       "    </tr>\n",
       "  </tbody>\n",
       "</table>\n",
       "</div>"
      ],
      "text/plain": [
       "       B   C     D  Sum\n",
       "A                      \n",
       "20  17.0  83  18.0  138\n",
       "36  44.0  16  26.0  122\n",
       "42  28.0  79  60.0  209\n",
       "47  96.0  27  36.8  249\n",
       "60  56.0  65  72.0  221\n",
       "71  95.0  45   8.0  219"
      ]
     },
     "execution_count": 51,
     "metadata": {},
     "output_type": "execute_result"
    }
   ],
   "source": [
    "\n",
    "# Task 9: Grouping Data\n",
    "# Group `df_a` by column 'A' and calculate the sum for each group. Store the result in `grouped_df`.\n",
    "# Expected output format: grouped_df should be a DataFrame with grouped sums.\n",
    "grouped_df = df_a.groupby('A').sum()\n",
    "grouped_df\n"
   ]
  },
  {
   "cell_type": "code",
   "execution_count": 52,
   "metadata": {},
   "outputs": [],
   "source": [
    "\n",
    "# Task 10: Merging DataFrames\n",
    "# Create another DataFrame `df_b` and merge it with `df_a` on column 'A', using an inner join.\n",
    "# Expected output format: merged_df should be a DataFrame containing rows where 'A' exists in both.\n",
    "df_b = df_b = pd.DataFrame({'A': df_a['A']})\n",
    "\n",
    "merged_df = pd.merge(df_a, df_b, on='A', how='inner')\n"
   ]
  },
  {
   "cell_type": "markdown",
   "metadata": {},
   "source": [
    "#### Matplotlib Tasks"
   ]
  },
  {
   "cell_type": "code",
   "execution_count": 53,
   "metadata": {},
   "outputs": [
    {
     "data": {
      "image/png": "[encoded data removed]",
      "text/plain": [
       "<Figure size 640x480 with 1 Axes>"
      ]
     },
     "metadata": {},
     "output_type": "display_data"
    }
   ],
   "source": [
    "# Task 1: Basic Plot\n",
    "# Create a simple line plot using `array_a` as the x-values and `added_arrays` as the y-values.\n",
    "plt.plot(array_a, added_arrays.reshape(20,1))\n",
    "plt.show()\n"
   ]
  },
  {
   "cell_type": "code",
   "execution_count": 54,
   "metadata": {},
   "outputs": [
    {
     "data": {
      "image/png": "[encoded data removed]",
      "text/plain": [
       "<Figure size 640x480 with 1 Axes>"
      ]
     },
     "metadata": {},
     "output_type": "display_data"
    }
   ],
   "source": [
    "\n",
    "# Task 2: Histogram\n",
    "# Create a histogram for `array_a` with 10 bins and display the plot.\n",
    "plt.hist(array_a, bins=10)\n",
    "plt.show()\n",
    "\n"
   ]
  },
  {
   "cell_type": "code",
   "execution_count": 55,
   "metadata": {},
   "outputs": [
    {
     "data": {
      "image/png": "[encoded data removed]",
      "text/plain": [
       "<Figure size 640x480 with 1 Axes>"
      ]
     },
     "metadata": {},
     "output_type": "display_data"
    }
   ],
   "source": [
    "# Task 3: Scatter Plot\n",
    "# Create a scatter plot using `array_a` as the x-values and `array_b` as the y-values.\n",
    "plt.scatter(array_a, array_b)\n",
    "plt.show()\n",
    "\n"
   ]
  },
  {
   "cell_type": "code",
   "execution_count": 56,
   "metadata": {},
   "outputs": [
    {
     "data": {
      "text/plain": [
       "Text(0.5, 1.0, 'Title')"
      ]
     },
     "execution_count": 56,
     "metadata": {},
     "output_type": "execute_result"
    },
    {
     "data": {
      "image/png": "[encoded data removed]",
      "text/plain": [
       "<Figure size 640x480 with 1 Axes>"
      ]
     },
     "metadata": {},
     "output_type": "display_data"
    }
   ],
   "source": [
    "# Task 4: Plot with Labels and Title\n",
    "# Create a plot with labeled axes and a title, using `array_a` and `array_b` as the x and y values respectively.\n",
    "plt.plot(array_a, array_b.reshape(20,1))\n",
    "plt.xlabel(\"array_a \")\n",
    "plt.ylabel(\"array_b \")\n",
    "plt.title(\"Title\")"
   ]
  },
  {
   "cell_type": "code",
   "execution_count": null,
   "metadata": {},
   "outputs": [],
   "source": []
  },
  {
   "cell_type": "code",
   "execution_count": null,
   "metadata": {},
   "outputs": [],
   "source": []
  },
  {
   "cell_type": "code",
   "execution_count": null,
   "metadata": {},
   "outputs": [],
   "source": []
  },
  {
   "cell_type": "code",
   "execution_count": null,
   "metadata": {},
   "outputs": [],
   "source": []
  },
  {
   "cell_type": "code",
   "execution_count": null,
   "metadata": {},
   "outputs": [],
   "source": []
  },
  {
   "cell_type": "code",
   "execution_count": null,
   "metadata": {},
   "outputs": [],
   "source": []
  },
  {
   "cell_type": "code",
   "execution_count": null,
   "metadata": {},
   "outputs": [],
   "source": []
  },
  {
   "cell_type": "code",
   "execution_count": null,
   "metadata": {},
   "outputs": [],
   "source": []
  },
  {
   "cell_type": "code",
   "execution_count": null,
   "metadata": {},
   "outputs": [],
   "source": []
  }
 ],
 "metadata": {
  "kernelspec": {
   "display_name": "base",
   "language": "python",
   "name": "python3"
  },
  "language_info": {
   "codemirror_mode": {
    "name": "ipython",
    "version": 3
   },
   "file_extension": ".py",
   "mimetype": "text/x-python",
   "name": "python",
   "nbconvert_exporter": "python",
   "pygments_lexer": "ipython3",
   "version": "3.12.3"
  }
 },
 "nbformat": 4,
 "nbformat_minor": 2
}
